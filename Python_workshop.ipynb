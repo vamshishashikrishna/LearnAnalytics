{
  "nbformat": 4,
  "nbformat_minor": 0,
  "metadata": {
    "colab": {
      "provenance": [],
      "include_colab_link": true
    },
    "kernelspec": {
      "name": "python3",
      "display_name": "Python 3"
    },
    "language_info": {
      "name": "python"
    }
  },
  "cells": [
    {
      "cell_type": "markdown",
      "metadata": {
        "id": "view-in-github",
        "colab_type": "text"
      },
      "source": [
        "<a href=\"https://colab.research.google.com/github/vamshishashikrishna/LearnAnalytics/blob/main/Python_workshop.ipynb\" target=\"_parent\"><img src=\"https://colab.research.google.com/assets/colab-badge.svg\" alt=\"Open In Colab\"/></a>"
      ]
    },
    {
      "cell_type": "code",
      "execution_count": 1,
      "metadata": {
        "colab": {
          "base_uri": "https://localhost:8080/"
        },
        "id": "vyFFb0ONAsGg",
        "outputId": "1f71aef8-b45e-464f-f008-5fbe988dac32"
      },
      "outputs": [
        {
          "output_type": "stream",
          "name": "stdout",
          "text": [
            "This is introduction to PDC\n",
            "This is intro Python\n",
            "hello \t  after tab\n",
            "hello \n",
            "  next line\n"
          ]
        }
      ],
      "source": [
        "print(\"This is introduction to PDC\")\n",
        "print(\"This\",\"is\",\"intro\",\"Python\")\n",
        "print(\"hello\", \"\\t\",\" after tab\")\n",
        "print(\"hello\", \"\\n\",\" next line\")"
      ]
    },
    {
      "cell_type": "code",
      "source": [
        "print(type(4))\n",
        "print(type(\"hi\"))\n",
        "print(type(4.4))\n",
        "isinstance(\"hi\",str)"
      ],
      "metadata": {
        "colab": {
          "base_uri": "https://localhost:8080/"
        },
        "id": "N4JOxrfpHgdZ",
        "outputId": "abed6ff5-a658-4d95-9c4e-4eed1db03afa"
      },
      "execution_count": null,
      "outputs": [
        {
          "output_type": "stream",
          "name": "stdout",
          "text": [
            "<class 'int'>\n",
            "<class 'str'>\n",
            "<class 'float'>\n"
          ]
        },
        {
          "output_type": "execute_result",
          "data": {
            "text/plain": [
              "True"
            ]
          },
          "metadata": {},
          "execution_count": 15
        }
      ]
    },
    {
      "cell_type": "code",
      "source": [
        "name =\"myname\"\n",
        "print(name)"
      ],
      "metadata": {
        "colab": {
          "base_uri": "https://localhost:8080/"
        },
        "id": "a5CyFvotKFUX",
        "outputId": "d1294459-b0fa-494d-d8c3-e4b42f810778"
      },
      "execution_count": null,
      "outputs": [
        {
          "output_type": "stream",
          "name": "stdout",
          "text": [
            "padma\n"
          ]
        }
      ]
    },
    {
      "cell_type": "code",
      "source": [
        "a = 5\n",
        "b = 7\n",
        "sum = a+b\n",
        "print(sum)\n",
        "x = 7.6\n",
        "print(int(x))"
      ],
      "metadata": {
        "colab": {
          "base_uri": "https://localhost:8080/"
        },
        "id": "Oxo9o9MkKbUa",
        "outputId": "9e8d298c-6c11-4a9a-e332-d6591f90a991"
      },
      "execution_count": null,
      "outputs": [
        {
          "output_type": "stream",
          "name": "stdout",
          "text": [
            "12\n",
            "7\n"
          ]
        }
      ]
    },
    {
      "cell_type": "code",
      "source": [
        "4%2\n",
        "a= 5\n",
        "a=a+6\n",
        "print(a)\n",
        "a +=6\n",
        "print(a)"
      ],
      "metadata": {
        "colab": {
          "base_uri": "https://localhost:8080/"
        },
        "id": "zVIq0LpUKuR_",
        "outputId": "46ba9ab5-7599-4456-e2db-97913a3fbf24"
      },
      "execution_count": null,
      "outputs": [
        {
          "output_type": "stream",
          "name": "stdout",
          "text": [
            "11\n",
            "17\n"
          ]
        }
      ]
    },
    {
      "cell_type": "code",
      "source": [
        "print('don\\'t')\n",
        "print(\"In below code use triple quotes to print sentence having double and single quote words\")"
      ],
      "metadata": {
        "colab": {
          "base_uri": "https://localhost:8080/"
        },
        "id": "onlbPys4OM20",
        "outputId": "d9f303ec-09e7-4600-b0a4-c5acba4074ab"
      },
      "execution_count": null,
      "outputs": [
        {
          "output_type": "stream",
          "name": "stdout",
          "text": [
            "don't\n"
          ]
        }
      ]
    },
    {
      "cell_type": "code",
      "source": [
        "print(\"\"\"\\t\\tPDC Course: Introduction to Python Programming, \\nThis course introduces you to the fundamentals of writing python programs. During the\n",
        "course, you will learn concepts such as \"Lists\", \"Dictionaries\", and also learn to work with\n",
        "the 'Pandas' library. \\n\\nGood luck!\"\"\")\n"
      ],
      "metadata": {
        "colab": {
          "base_uri": "https://localhost:8080/"
        },
        "id": "0eGejfg8PSXd",
        "outputId": "fcc1c023-cc4c-4e79-b349-71d983087395"
      },
      "execution_count": null,
      "outputs": [
        {
          "output_type": "stream",
          "name": "stdout",
          "text": [
            "\t\tPDC Course: Introduction to Python Programming, \n",
            "This course introduces you to the fundamentals of writing python programs. During the\n",
            "course, you will learn concepts such as \"Lists\", \"Dictionaries\", and also learn to work with\n",
            "the 'Pandas' library. \n",
            "\n",
            "Good luck!\n"
          ]
        }
      ]
    },
    {
      "cell_type": "code",
      "source": [
        "snack =\"milky way\"\n",
        "print(snack[:2])\n",
        "print(snack[6:])"
      ],
      "metadata": {
        "colab": {
          "base_uri": "https://localhost:8080/"
        },
        "id": "TvhO63aPQt95",
        "outputId": "9c7625e3-9780-408e-ed28-3a50caef5977"
      },
      "execution_count": null,
      "outputs": [
        {
          "output_type": "stream",
          "name": "stdout",
          "text": [
            "mi\n",
            "way\n"
          ]
        }
      ]
    },
    {
      "cell_type": "code",
      "source": [
        "#string concatination\n",
        "first_name =\"Hertie\"\n",
        "last_name =\" School\"\n",
        "full_name = first_name+last_name\n",
        "print(full_name)\n",
        "\n",
        "#duplicating string - here * 3 will duplicate the name 3 time\n",
        "duplicate_name = (full_name+ ' ') * 3\n",
        "print(duplicate_name)\n",
        "\n",
        "print(full_name.upper())\n",
        "print(full_name.lower())\n",
        "print(full_name.capitalize())\n",
        "place = full_name.replace(\" School\", \" lab\")\n",
        "print(full_name.count(\"o\"))\n",
        "\n",
        "#string interpolation\n",
        "name = \"Olaf Scholz\"\n",
        "age = 64\n",
        "print(\"{} the chancellor of Germany is {} years old\".format(name,age))\n",
        "print(f\"{name},the chancellor of Germany is {age} years old\")"
      ],
      "metadata": {
        "colab": {
          "base_uri": "https://localhost:8080/"
        },
        "id": "W49qnW1NUvxw",
        "outputId": "7171019f-4622-4ef1-d6fb-6a5b4e705a27"
      },
      "execution_count": null,
      "outputs": [
        {
          "output_type": "stream",
          "name": "stdout",
          "text": [
            "Hertie School\n",
            "Hertie School Hertie School Hertie School \n",
            "HERTIE SCHOOL\n",
            "hertie school\n",
            "Hertie school\n",
            "2\n",
            "Olaf Scholz the chancellor of Germany is 64 years old\n",
            "Olaf Scholz,the chancellor of Germany is 64 years old\n"
          ]
        }
      ]
    },
    {
      "cell_type": "code",
      "source": [
        "rating = input(\"How woukd you rate your day on a scale of 1-10 \")\n",
        "print(f\"you have entered {rating}\")\n",
        "if not isinstance(rating, int):\n",
        "    print(\"please only input integer value\")\n",
        "\n",
        "#differe example with try and except\n",
        "age = input(\"Please enter your age\")\n",
        "try:\n",
        "    age = int(age)\n",
        "    print(age)\n",
        "except:\n",
        "    print(\"Please enter your age in integer\")"
      ],
      "metadata": {
        "colab": {
          "base_uri": "https://localhost:8080/"
        },
        "id": "8Z6wAbGcZrJg",
        "outputId": "540f1bfe-b328-4810-9e27-d44e42a113e7"
      },
      "execution_count": null,
      "outputs": [
        {
          "output_type": "stream",
          "name": "stdout",
          "text": [
            "How woukd you rate your day on a scale of 1-10 1\n",
            "you have entered 1\n",
            "please only input integer value\n",
            "Please enter your agehh19\n",
            "Please enter your age in integer\n"
          ]
        }
      ]
    },
    {
      "cell_type": "code",
      "source": [
        "name = input(\"Enter your name\")\n",
        "email = input(\"Enter your email ID\")\n",
        "print(f\"Please confirm that you have entered your name as {name} and Email Id as {email}\")"
      ],
      "metadata": {
        "colab": {
          "base_uri": "https://localhost:8080/"
        },
        "id": "B0P-CPlid6Xm",
        "outputId": "052e9858-0b6b-493c-a41d-c6eb2b61c6b6"
      },
      "execution_count": null,
      "outputs": [
        {
          "output_type": "stream",
          "name": "stdout",
          "text": [
            "Enter your nameHertie\n",
            "Enter your email IDhertie@gmail.com\n",
            "Please confirm that you have entered your name as Hertie and Email Id as hertie@gmail.com\n"
          ]
        }
      ]
    },
    {
      "cell_type": "code",
      "source": [
        "age = input(\"What is your age?\")\n",
        "age = int(age)\n",
        "print(f\"oh, cool. This means in 10 years time you will be {age+10} years old\")"
      ],
      "metadata": {
        "colab": {
          "base_uri": "https://localhost:8080/"
        },
        "id": "w9CAf66vfuk6",
        "outputId": "54726926-e80a-41b5-997d-aeee1ad64e0d"
      },
      "execution_count": null,
      "outputs": [
        {
          "output_type": "stream",
          "name": "stdout",
          "text": [
            "What is your age?10\n",
            "oh, cool. This means in 10 years time you will be 20 years old\n"
          ]
        }
      ]
    },
    {
      "cell_type": "code",
      "source": [
        "#Program restaurant\n",
        "bill = input(\"Enter your bill amount\")\n",
        "tip = input(\"Do you want to tip 15% or 20%, choose 1 for option 15% tip or 2 for option 20% tip\")\n",
        "bill = int(bill)\n",
        "#tip = int(tip)\n",
        "if tip==1:\n",
        "    print(f\"your total bill is {bill+bill*0.15}\")\n",
        "else:\n",
        "    print(f\"your total bill is {bill+bill*0.2}\")\n"
      ],
      "metadata": {
        "colab": {
          "base_uri": "https://localhost:8080/"
        },
        "id": "OxhzyEYYgBpE",
        "outputId": "9f6aaead-43bc-48be-e544-cdd2b9415d6d"
      },
      "execution_count": null,
      "outputs": [
        {
          "output_type": "stream",
          "name": "stdout",
          "text": [
            "Enter your bill amount100\n",
            "Do you want to tip 15% or 20%, choose 1 for option 15% tip or 2 for option 20% tip1\n",
            "your total bill is 120.0\n"
          ]
        }
      ]
    },
    {
      "cell_type": "code",
      "source": [
        "#booleans True or False , type bool\n",
        "age = input(\"Enter your age : \")\n",
        "age = int(age)\n",
        "if age>18:\n",
        "    over_18 = True\n",
        "else:\n",
        "    over_18= False\n",
        "if over_18==True:\n",
        "    print(\"You can elibile for gettign a driving licence\")\n",
        "else:\n",
        "    print(f\"Please try after {18-age} years\")"
      ],
      "metadata": {
        "colab": {
          "base_uri": "https://localhost:8080/"
        },
        "id": "9snU_p5Qx1rZ",
        "outputId": "3ac94422-f0b8-4ffa-8b15-263f12b26cb8"
      },
      "execution_count": null,
      "outputs": [
        {
          "output_type": "stream",
          "name": "stdout",
          "text": [
            "Enter your age : 10\n",
            "Please try after 8 years\n"
          ]
        }
      ]
    },
    {
      "cell_type": "code",
      "source": [
        "age = 30\n",
        "if age < 13:\n",
        "    print(\"you are less than 13 years\")\n",
        "if age >=20 and age <=21:\n",
        "    print(\"You are between 20 and 21\")\n",
        "if age!=21:\n",
        "    print(\"you are not 21\")\n",
        "if age >=30 and age <= 40:\n",
        "    print(\"you are someone in ther 30's\")"
      ],
      "metadata": {
        "colab": {
          "base_uri": "https://localhost:8080/"
        },
        "id": "NjQMBhuWzS-q",
        "outputId": "d6582b41-7f64-4e7d-e29b-cfa0ebd15f8c"
      },
      "execution_count": null,
      "outputs": [
        {
          "output_type": "stream",
          "name": "stdout",
          "text": [
            "you are not 21\n",
            "you are someone in ther 30's\n"
          ]
        }
      ]
    },
    {
      "cell_type": "code",
      "source": [
        "#elif statement\n",
        "mood = input(\"On a scale of 1-3, what is your mood? \")\n",
        "mood = int(mood)\n",
        "print(\"I sense your energy. Your true emotions are coming across myscreen...\")\n",
        "if mood == 3:\n",
        " print(\"You are happy\")\n",
        "elif mood == 2:\n",
        " print(\"You are neutral\")\n",
        "elif mood == 1:\n",
        " print(\"You are sad\")\n",
        "else:\n",
        " print(\"Illegal mood value!\")"
      ],
      "metadata": {
        "colab": {
          "base_uri": "https://localhost:8080/"
        },
        "id": "s_lx32E3x1Xh",
        "outputId": "4fc2bbc5-27d0-4e47-8ed9-f586f52af459"
      },
      "execution_count": null,
      "outputs": [
        {
          "output_type": "stream",
          "name": "stdout",
          "text": [
            "On a scale of 1-3, what is your mood? 2\n",
            "I sense your energy. Your true emotions are coming across myscreen...\n",
            "You are neutral\n"
          ]
        }
      ]
    },
    {
      "cell_type": "code",
      "source": [
        "from pickle import TRUE\n",
        "# nested conditionals: to the club or not\n",
        "age = 22\n",
        "have_a_car = TRUE\n",
        "if age > 18:\n",
        " print(\"You are permitted to go to the club.\")\n",
        " if have_a_car:\n",
        "    print(\"And you can come along with us to the club.\")\n",
        " else:\n",
        "    print(\"But you can't come along with us to the club.\")\n",
        "elif 18 >= age < 21:\n",
        "    print(\"But you are not permitted to drink in the club.\")\n",
        "else:\n",
        "    print(\"You are not permitted to go to the club\")\n"
      ],
      "metadata": {
        "colab": {
          "base_uri": "https://localhost:8080/"
        },
        "id": "j4ig6fi72-A0",
        "outputId": "af08cdb1-0887-4800-9dcf-0d845ecc20e7"
      },
      "execution_count": null,
      "outputs": [
        {
          "output_type": "stream",
          "name": "stdout",
          "text": [
            "You are permitted to go to the club.\n",
            "And you can come along with us to the club.\n"
          ]
        }
      ]
    },
    {
      "cell_type": "code",
      "source": [
        "#nested if\n",
        "score = input(\"Enter students score\")\n",
        "score = int(score)\n",
        "if score >=90 and score <=100:\n",
        "    print(\"Student grade is A\")\n",
        "elif score >=80 and score <90:\n",
        "    print(\"Student grade is B\")\n",
        "elif score >=70 and score <80:\n",
        "    print(\"Student grade is C\")\n",
        "elif score >=60 and score <70:\n",
        "    print(\"Student grade is D\")\n",
        "else:\n",
        "    print(\"Student grade is F\")\n"
      ],
      "metadata": {
        "colab": {
          "base_uri": "https://localhost:8080/"
        },
        "id": "MdFBIkCp3fYM",
        "outputId": "7b938746-359f-4edb-efc0-63218cb35753"
      },
      "execution_count": null,
      "outputs": [
        {
          "output_type": "stream",
          "name": "stdout",
          "text": [
            "Enter students score9\n",
            "Student grade is F\n"
          ]
        }
      ]
    },
    {
      "cell_type": "code",
      "source": [
        "#nested if and while loop\n",
        "choice =\"y\"\n",
        "while choice == \"y\":\n",
        "    score = input(\"Enter students score\")\n",
        "    score = int(score)\n",
        "    if 90<=score<=100:\n",
        "        print(\"Student grade is A\")\n",
        "    elif 80<=score<90:\n",
        "        print(\"Student grade is B\")\n",
        "    elif 70<=score<80:\n",
        "        print(\"Student grade is C\")\n",
        "    elif 60<=score<70:\n",
        "        print(\"Student grade is D\")\n",
        "    else:\n",
        "        print(\"Student grade is F\")\n",
        "    choice =input(\"Do you want to continue checking the grade (y/n)\")"
      ],
      "metadata": {
        "colab": {
          "base_uri": "https://localhost:8080/"
        },
        "id": "ZMIqW59c7Gj-",
        "outputId": "4680d48f-f21e-414c-f959-fcc913f8f4af"
      },
      "execution_count": null,
      "outputs": [
        {
          "name": "stdout",
          "output_type": "stream",
          "text": [
            "Enter students score44\n",
            "Student grade is F\n",
            "Do you want to continue checking the grade (y/n)y\n",
            "Enter students score88\n",
            "Student grade is B\n",
            "Do you want to continue checking the grade (y/n)y\n",
            "Enter students score99\n",
            "Student grade is A\n",
            "Do you want to continue checking the grade (y/n)n\n"
          ]
        }
      ]
    },
    {
      "cell_type": "code",
      "source": [
        "number =1\n",
        "while number<=20:\n",
        "    if number%2==0:\n",
        "        print(f\"{number} is an even number\")\n",
        "    number +=1"
      ],
      "metadata": {
        "colab": {
          "base_uri": "https://localhost:8080/"
        },
        "id": "E0MTCB8g8Kp6",
        "outputId": "d19e2029-e2e2-441f-f01d-1bcb128e726b"
      },
      "execution_count": null,
      "outputs": [
        {
          "output_type": "stream",
          "name": "stdout",
          "text": [
            "2 is an even number\n",
            "4 is an even number\n",
            "6 is an even number\n",
            "8 is an even number\n",
            "10 is an even number\n",
            "12 is an even number\n",
            "14 is an even number\n",
            "16 is an even number\n",
            "18 is an even number\n",
            "20 is an even number\n"
          ]
        }
      ]
    },
    {
      "cell_type": "code",
      "source": [
        "from os import truncate\n",
        "number =100\n",
        "while number%17:\n",
        "    if number%17+1==0:\n",
        "     #   print(f\"First number divisible by 17 is {number}\")\n",
        "      print(f\"First number divisible by 17 is {number+1}\")\n",
        "      #  break\n",
        "    number +=1\n",
        "\n"
      ],
      "metadata": {
        "id": "kV8J0QffCGlq"
      },
      "execution_count": null,
      "outputs": []
    },
    {
      "cell_type": "code",
      "source": [
        "#for loop\n",
        "for index in \"Berlin\":\n",
        "    print(\"Josh\"+index)\n",
        "\n",
        "for i in range(2,11,2):\n",
        "    print(i)"
      ],
      "metadata": {
        "colab": {
          "base_uri": "https://localhost:8080/"
        },
        "id": "iYvj_s9bLYIV",
        "outputId": "82454900-a410-4c9a-adaa-1884f6d6057e"
      },
      "execution_count": null,
      "outputs": [
        {
          "output_type": "stream",
          "name": "stdout",
          "text": [
            "JoshB\n",
            "Joshe\n",
            "Joshr\n",
            "Joshl\n",
            "Joshi\n",
            "Joshn\n",
            "2\n",
            "4\n",
            "6\n",
            "8\n",
            "10\n"
          ]
        }
      ]
    },
    {
      "cell_type": "code",
      "source": [
        "for i in range(5,0,-1):\n",
        "    print(i)\n",
        "for i in range(3):\n",
        "    print(\"Padma\")"
      ],
      "metadata": {
        "colab": {
          "base_uri": "https://localhost:8080/"
        },
        "id": "FRt7SMEXNHNY",
        "outputId": "75d252b4-ec23-47ec-b9b5-1978990ee81b"
      },
      "execution_count": null,
      "outputs": [
        {
          "output_type": "stream",
          "name": "stdout",
          "text": [
            "5\n",
            "4\n",
            "3\n",
            "2\n",
            "1\n",
            "Padma\n",
            "Padma\n",
            "Padma\n"
          ]
        }
      ]
    },
    {
      "cell_type": "code",
      "source": [
        "#check for prime numbers\n",
        "for num in range(10,100):\n",
        "    if (num%2==0) or (num%3==0) or (num%5==0) or (num%7==0):\n",
        "        continue\n",
        "    print(num)"
      ],
      "metadata": {
        "colab": {
          "base_uri": "https://localhost:8080/"
        },
        "id": "M8Bs52w9O5P8",
        "outputId": "590f9fe9-d123-41f4-ae2e-7f4c206bed55"
      },
      "execution_count": null,
      "outputs": [
        {
          "output_type": "stream",
          "name": "stdout",
          "text": [
            "11\n",
            "13\n",
            "17\n",
            "19\n",
            "23\n",
            "29\n",
            "31\n",
            "37\n",
            "41\n",
            "43\n",
            "47\n",
            "53\n",
            "59\n",
            "61\n",
            "67\n",
            "71\n",
            "73\n",
            "79\n",
            "83\n",
            "89\n",
            "97\n"
          ]
        }
      ]
    },
    {
      "cell_type": "code",
      "source": [
        "num =10\n",
        "while num<=100:\n",
        "    if (num%2==0) or (num%3==0) or (num%5==0) or (num%7==0):\n",
        "        num +=1\n",
        "        continue\n",
        "    print(num)\n",
        "    num =num+1"
      ],
      "metadata": {
        "colab": {
          "base_uri": "https://localhost:8080/"
        },
        "id": "Gb1ru06HQTuI",
        "outputId": "c6eaf3f7-8018-42f6-a576-c11f4ebfb7be"
      },
      "execution_count": null,
      "outputs": [
        {
          "output_type": "stream",
          "name": "stdout",
          "text": [
            "11\n",
            "13\n",
            "17\n",
            "19\n",
            "23\n",
            "29\n",
            "31\n",
            "37\n",
            "41\n",
            "43\n",
            "47\n",
            "53\n",
            "59\n",
            "61\n",
            "67\n",
            "71\n",
            "73\n",
            "79\n",
            "83\n",
            "89\n",
            "97\n"
          ]
        }
      ]
    },
    {
      "cell_type": "code",
      "source": [
        "list = [\"bread\", \"eggs\", \"milk\"]\n",
        "print(type(list))\n",
        "print(list[1])\n",
        "mixed_list = [True, 112, \"shopping\"]\n",
        "print(mixed_list)\n",
        "mixed_list[1]\n",
        "#check if an item is in a list\n",
        "print(112 in mixed_list)\n",
        "print(\"shopping\" in mixed_list)\n",
        "\n",
        "#lenght of list\n",
        "print(len(mixed_list))\n",
        "\n",
        "#concatening a list\n",
        "final_list = list+mixed_list\n",
        "print(final_list)\n",
        "final_list[1][:2]\n",
        "final_list.append(\"last item\")\n",
        "final_list\n",
        "num_list = [10,5,12,56,1,7]\n",
        "num_list.sort()\n",
        "print(num_list)\n",
        "num_list.insert(3,8)\n",
        "print(num_list)\n",
        "print(final_list.reverse() )"
      ],
      "metadata": {
        "colab": {
          "base_uri": "https://localhost:8080/"
        },
        "id": "IvxFAEvVTMdv",
        "outputId": "1786387f-007b-46a5-a51e-969ae160827e"
      },
      "execution_count": null,
      "outputs": [
        {
          "output_type": "stream",
          "name": "stdout",
          "text": [
            "<class 'list'>\n",
            "eggs\n",
            "[True, 112, 'shopping']\n",
            "True\n",
            "True\n",
            "3\n",
            "['bread', 'eggs', 'milk', True, 112, 'shopping']\n",
            "[1, 5, 7, 10, 12, 56]\n",
            "[1, 5, 7, 8, 10, 12, 56]\n",
            "None\n"
          ]
        }
      ]
    },
    {
      "cell_type": "code",
      "source": [
        "to_do_list = [\"code\", \"attend workshp\", \"meet friends\"]\n",
        "print(to_do_list)\n",
        "to_do_list.extend([\"make food\", \"go out for a walk\", \"sleep\"])\n",
        "print(to_do_list)\n",
        "print([to_do_list[0:3]])\n",
        "to_do_list.insert(0, \"take a break\")\n",
        "print(to_do_list)\n",
        "\n",
        "to_do_list.pop(to_do_list.index(\"sleep\"))\n",
        "print(to_do_list)"
      ],
      "metadata": {
        "colab": {
          "base_uri": "https://localhost:8080/"
        },
        "id": "aNXyBeMyWkKS",
        "outputId": "a3868cff-2230-4b87-ac0d-28dc7f28b778"
      },
      "execution_count": null,
      "outputs": [
        {
          "output_type": "stream",
          "name": "stdout",
          "text": [
            "['code', 'attend workshp', 'meet friends']\n",
            "['code', 'attend workshp', 'meet friends', 'make food', 'go out for a walk', 'sleep']\n",
            "[['code', 'attend workshp', 'meet friends']]\n",
            "['take a break', 'code', 'attend workshp', 'meet friends', 'make food', 'go out for a walk', 'sleep']\n",
            "['take a break', 'code', 'attend workshp', 'meet friends', 'make food', 'go out for a walk']\n"
          ]
        }
      ]
    },
    {
      "cell_type": "code",
      "source": [
        "#create a dictionary\n",
        "employee = {\"name\": \"Jake\", \"age\": 32, \"salary\": 50000}\n",
        "\n",
        "# access a dictionary element using its key\n",
        "employee['age']\n",
        "# what happens if you try accessing a dictionary using a non-existent key?\n",
        "#employee[\"department\"]\n",
        "# accessing a dictionary using the get method\n",
        "employee.get(\"age\")\n",
        "# using .get() to access a non-existent key , it returns nothing instead of throwing an error\n",
        "employee.get(\"department\", 0)\n",
        "employee[\"deparment\"] = \"Sales\"\n",
        "print(employee)\n",
        "\n",
        "#replace a key value pair\n",
        "employee[\"age\"] = 40\n",
        "print(employee)\n",
        "\n",
        "#delete a dictionary element\n",
        "del employee[\"deparment\"]\n",
        "print(employee)\n",
        "\n",
        "#return all keys of a dictionary\n",
        "emp_keys = employee.keys()\n",
        "print(emp_keys)\n",
        "emp_values = list(employee.values())\n",
        "\n"
      ],
      "metadata": {
        "colab": {
          "base_uri": "https://localhost:8080/",
          "height": 263
        },
        "id": "WXCJCse_d2NN",
        "outputId": "94b1b9a7-13f5-443d-d3ff-9a347870f7d6"
      },
      "execution_count": null,
      "outputs": [
        {
          "output_type": "stream",
          "name": "stdout",
          "text": [
            "{'name': 'Jake', 'age': 32, 'salary': 50000, 'deparment': 'Sales'}\n",
            "{'name': 'Jake', 'age': 40, 'salary': 50000, 'deparment': 'Sales'}\n",
            "{'name': 'Jake', 'age': 40, 'salary': 50000}\n",
            "dict_keys(['name', 'age', 'salary'])\n"
          ]
        },
        {
          "output_type": "error",
          "ename": "TypeError",
          "evalue": "'list' object is not callable",
          "traceback": [
            "\u001b[0;31m---------------------------------------------------------------------------\u001b[0m",
            "\u001b[0;31mTypeError\u001b[0m                                 Traceback (most recent call last)",
            "\u001b[0;32m<ipython-input-300-f7289e6ad780>\u001b[0m in \u001b[0;36m<cell line: 26>\u001b[0;34m()\u001b[0m\n\u001b[1;32m     24\u001b[0m \u001b[0memp_keys\u001b[0m \u001b[0;34m=\u001b[0m \u001b[0memployee\u001b[0m\u001b[0;34m.\u001b[0m\u001b[0mkeys\u001b[0m\u001b[0;34m(\u001b[0m\u001b[0;34m)\u001b[0m\u001b[0;34m\u001b[0m\u001b[0;34m\u001b[0m\u001b[0m\n\u001b[1;32m     25\u001b[0m \u001b[0mprint\u001b[0m\u001b[0;34m(\u001b[0m\u001b[0memp_keys\u001b[0m\u001b[0;34m)\u001b[0m\u001b[0;34m\u001b[0m\u001b[0;34m\u001b[0m\u001b[0m\n\u001b[0;32m---> 26\u001b[0;31m \u001b[0memp_values\u001b[0m \u001b[0;34m=\u001b[0m \u001b[0mlist\u001b[0m\u001b[0;34m(\u001b[0m\u001b[0memployee\u001b[0m\u001b[0;34m.\u001b[0m\u001b[0mvalues\u001b[0m\u001b[0;34m(\u001b[0m\u001b[0;34m)\u001b[0m\u001b[0;34m)\u001b[0m\u001b[0;34m\u001b[0m\u001b[0;34m\u001b[0m\u001b[0m\n\u001b[0m\u001b[1;32m     27\u001b[0m \u001b[0;34m\u001b[0m\u001b[0m\n",
            "\u001b[0;31mTypeError\u001b[0m: 'list' object is not callable"
          ]
        }
      ]
    },
    {
      "cell_type": "code",
      "source": [
        "list_countries = [\"Japan\",\"Kenya\",\"Germany\", \"Canada\"]\n",
        "list_continents = [\"Asia\", \"Africa\", \"Europe\", \"North America\"]\n",
        "travel_plans = dict(zip(list_continents,list_countries))\n",
        "print(travel_plans)\n",
        "travel_plans[\"Africa\"] = [travel_plans[\"Africa\"], \"South Africa\"]\n",
        "print(travel_plans)\n",
        "travel_plans[\"South America\"] = \"Brazil\"\n",
        "print(travel_plans)\n",
        "for list_continents, list_countries in travel_plans.items():\n",
        "    if isinstance(list_countries, list):\n",
        "        print(f\"I want to visit {list_countries[0]} and {list_countries[1]} in continent {list_continents}\")\n",
        "    else:\n",
        "        print(f\"I want to visit {list_countries} in {list_continents}\")"
      ],
      "metadata": {
        "colab": {
          "base_uri": "https://localhost:8080/"
        },
        "id": "0Qq3TM5mjS3V",
        "outputId": "4fddfa5d-98af-4a34-d49c-a3fcbf59cfcf"
      },
      "execution_count": null,
      "outputs": [
        {
          "output_type": "stream",
          "name": "stdout",
          "text": [
            "{'Asia': 'Japan', 'Africa': 'Kenya', 'Europe': 'Germany', 'North America': 'Canada'}\n",
            "{'Asia': 'Japan', 'Africa': ['Kenya', 'South Africa'], 'Europe': 'Germany', 'North America': 'Canada'}\n",
            "{'Asia': 'Japan', 'Africa': ['Kenya', 'South Africa'], 'Europe': 'Germany', 'North America': 'Canada', 'South America': 'Brazil'}\n",
            "I want to visit Japan in Asia\n",
            "I want to visit Kenya and South Africa in continent Africa\n",
            "I want to visit Germany in Europe\n",
            "I want to visit Canada in North America\n",
            "I want to visit Brazil in South America\n"
          ]
        }
      ]
    }
  ]
}